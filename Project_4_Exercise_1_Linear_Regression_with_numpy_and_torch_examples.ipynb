{
  "cells": [
    {
      "cell_type": "markdown",
      "metadata": {
        "id": "u6vs9M3lPTJO"
      },
      "source": [
        "# ML Exercise 1: Linear Regression\n",
        "\n",
        "This notebook is to help you get started on Exercise 1 for Project 4 on Machine Learning.\n",
        "\n",
        "Exercise 1 covers the material we discussed in the Intro to ML presentation which you can find [on this Canvas page](https://canvas.tufts.edu/courses/62563/pages/intro-to-ml-slides-and-exercise-materials?module_item_id=1651708).\n",
        "\n",
        "In this exercise your group is being asked to implement a linear regression model.  \n",
        "\n",
        "The task is to estimate profits for opening a new food truck based on the population of the city.  You are provided data for the profit for past trucks along with the population of the cities in which they operated.\n",
        "\n",
        "The objectives for this exercise is to:\n",
        "* Import data, text file with (x,y) pairs\n",
        "* Create arrays X, Y, theta\n",
        "* [Result 1] Calculate theta using Normal Equation\n",
        "* [Result 2] Plot data points and model curve\n",
        "* [Result 3] Implement gradient solver - compare to Normal Equation solution\n",
        "* [Result 4] Plot loss and gradient norm vs. iteration step\n",
        "* [Optional Study] Plot path of 2d parameter values during gradient descent"
      ]
    },
    {
      "cell_type": "markdown",
      "metadata": {
        "id": "yoodgANRPTJQ"
      },
      "source": [
        "## 1.1 Loading the Data\n",
        "\n",
        "You can download the data the following GoogleDrive [link](https://drive.google.com/file/d/1Duglp2NZQQWJ4j1iUPZmAAcFKEUT0Jvi/view?usp=sharing).\n",
        "\n",
        "In the rest that follows, we assume that the file, `ex1data.txt`, has been uploaded into `/content/drive/sample_data/`.\n",
        "\n",
        "The data is in a very simple CSV format.\n",
        "\n",
        "The first column of data is the population in 10K people.  The second column is the profit in 10K dollars.\n",
        "\n",
        "\n",
        "Here is an example of the first bit of the file:\n",
        "\n",
        "```\n",
        "6.1101,17.592\n",
        "5.5277,9.1302\n",
        "8.5186,13.662\n",
        "7.0032,11.854\n",
        "5.8598,6.8233\n",
        "8.3829,11.886\n",
        "7.4764,4.3483\n",
        "8.5781,12\n",
        "6.4862,6.5987\n",
        "5.0546,3.8166\n",
        "...\n",
        "```\n"
      ]
    },
    {
      "cell_type": "markdown",
      "metadata": {
        "id": "obbGbs-yP0IY"
      },
      "source": [
        "Import the packages."
      ]
    },
    {
      "cell_type": "code",
      "execution_count": 4,
      "metadata": {
        "id": "NsvO6aInPTJR"
      },
      "outputs": [],
      "source": [
        "import numpy as np\n",
        "import matplotlib.pyplot as plt\n",
        "import numpy as np\n",
        "import torch\n",
        "%matplotlib inline"
      ]
    },
    {
      "cell_type": "code",
      "execution_count": 6,
      "metadata": {
        "colab": {
          "base_uri": "https://localhost:8080/"
        },
        "id": "CJlwR_DNPTJS",
        "outputId": "f95f27ec-fc1a-42b6-cec1-9808c49d1d7c"
      },
      "outputs": [
        {
          "name": "stdout",
          "output_type": "stream",
          "text": [
            "shape of numpy array (expected to be (97,2)):  (97, 2)\n",
            "dimension of array:  2\n"
          ]
        }
      ],
      "source": [
        "# we use numpy's import function\n",
        "from numpy import genfromtxt\n",
        "my_data = genfromtxt('ex1data1.txt', delimiter=',')\n",
        "\n",
        "# when using numpy (or torch arrays), checking the shape will be important\n",
        "# many operations will have requirements involving the shape of input arrays\n",
        "# (e.g. matrix multiplication requires that the number of dimenions is 2).\n",
        "print(\"shape of numpy array (expected to be (97,2)): \",my_data.shape)\n",
        "print(\"dimension of array: \",len(my_data.shape))"
      ]
    },
    {
      "cell_type": "markdown",
      "metadata": {
        "id": "8WL8yQtEeCQH"
      },
      "source": [
        "## 1.2 Slicing an array\n",
        "\n",
        "Libraries like numpy and torch provide ways to isolate or 'slice' portions of an array.\n",
        "\n",
        "The following is an example of slicing out the first and second columns of our data array in order to isolate the population and profit data and make a 2D scatter plot."
      ]
    },
    {
      "cell_type": "code",
      "execution_count": 8,
      "metadata": {
        "colab": {
          "base_uri": "https://localhost:8080/"
        },
        "id": "78WEn9WYF817",
        "outputId": "861c1e84-19a0-4dcb-d31f-8df37c46a736"
      },
      "outputs": [
        {
          "name": "stdout",
          "output_type": "stream",
          "text": [
            "population_data.shape= (97,)\n",
            "profit_data.shape= (97,)\n"
          ]
        }
      ],
      "source": [
        "# Example of slicing an array\n",
        "\n",
        "# if you want only the population data column in the array, we can slice it out\n",
        "population_data = my_data[:,0] # take slice of array involving all rows (':') and only the 0-th column\n",
        "print(\"population_data.shape=\",population_data.shape) # should be (97,) which is a one-dimensional array\n",
        "\n",
        "# likewise, this is how you get the profit values, which is the 1-indexed column\n",
        "profit_data = my_data[:,1]\n",
        "print(\"profit_data.shape=\",profit_data.shape)"
      ]
    },
    {
      "cell_type": "code",
      "execution_count": 9,
      "metadata": {
        "colab": {
          "base_uri": "https://localhost:8080/",
          "height": 449
        },
        "id": "TL1JVukOT9Ql",
        "outputId": "a1b98469-ff7f-4716-f2c3-48cda5e3370e"
      },
      "outputs": [
        {
          "data": {
            "image/png": "[encoded data removed]",
            "text/plain": [
              "<Figure size 640x480 with 1 Axes>"
            ]
          },
          "metadata": {},
          "output_type": "display_data"
        }
      ],
      "source": [
        "# visualizing the data\n",
        "plt.scatter(population_data, profit_data, marker='x', c='r')\n",
        "plt.xlabel('Population of City in 10,000s')\n",
        "plt.ylabel('Profit in $10,000s');"
      ]
    },
    {
      "cell_type": "markdown",
      "metadata": {
        "id": "YcMpMkZvf6iX"
      },
      "source": [
        "## 1.3 Manipulating array dimensions\n",
        "\n",
        "Often times we need to manipulate the shape and/or the number of dimensions of an array. This might involve need to expand or contract the dimension of the array without changing the number of actual elements in the array."
      ]
    },
    {
      "cell_type": "code",
      "execution_count": 12,
      "metadata": {
        "colab": {
          "base_uri": "https://localhost:8080/"
        },
        "id": "vnTls6kbkjCb",
        "outputId": "e6d97699-242b-4453-f103-bd55ecc81f5b"
      },
      "outputs": [
        {
          "name": "stdout",
          "output_type": "stream",
          "text": [
            "(97,)\n",
            "(97,)\n",
            "(97, 1)\n",
            "(97, 1)\n",
            "x_col.shape= (97, 1)\n",
            "x_col.shape= (97, 1)\n",
            "x_col.shape= (97, 1)\n",
            "x_row.shape= (1, 97)\n",
            "x_row.shape= (1, 97)\n",
            "x_row.shape= (1, 97)\n",
            "Y.shape= (97, 1)\n"
          ]
        }
      ],
      "source": [
        "# Some numpy functions for creating and manipulating arrays\n",
        "\n",
        "# rename the input 1D arrays with something shorter\n",
        "x = population_data\n",
        "y_1d = profit_data\n",
        "print(x.shape)\n",
        "print(y_1d.shape)\n",
        "\n",
        "# creating arrays with a shape\n",
        "# making 2D array of zeros\n",
        "z_zeros = np.zeros( (x.shape[0],1) )\n",
        "print(z_zeros.shape)\n",
        "# making array of ones\n",
        "z_ones = np.ones( (x.shape[0],1) )\n",
        "print(z_ones.shape)\n",
        "\n",
        "\n",
        "\n",
        "# for example, our slices were 1D (97,)\n",
        "# but in lecture, the talked about 2D matrices,\n",
        "# so we need to \"expand\" dimensions and turn (97,) into (97,1) [column vector] or (1,97) [row vector]\n",
        "x_col1 = np.expand_dims(x, axis=1) # add a dimension of size 1 as a new trailing dimension: (97,) -> (97,1)\n",
        "x_col2 = x[:,np.newaxis] # add a dimension of size 1 as a new trailing dimension: (97,) -> (97,1)\n",
        "x_col3 = x.reshape(-1,1) # add a dimension of size 1 as a new trailing dimension: (97,) -> (97,1). the '-1' represents the current dimensions\n",
        "print(\"x_col.shape=\",x_col1.shape)\n",
        "print(\"x_col.shape=\",x_col2.shape)\n",
        "print(\"x_col.shape=\",x_col3.shape)\n",
        "\n",
        "x_row1 = x[np.newaxis,:] # add a dimension of size 1 as a new leading dimension: (97,) -> (1,97)\n",
        "x_row2 = np.expand_dims(x, axis=0) # add a dimension of size 1 as a new leading dimension: (97,) -> (1,97)\n",
        "x_row3 = x.reshape(1,-1) # add a dimension of size 1 as a new leading dimension: (97,) -> (1,97). the '-1' represents the current dimensions\n",
        "print(\"x_row.shape=\",x_row1.shape)\n",
        "print(\"x_row.shape=\",x_row2.shape)\n",
        "print(\"x_row.shape=\",x_row3.shape)\n",
        "\n",
        "Y = y_1d.reshape(-1,1) # 2D column vector\n",
        "print(\"Y.shape=\",Y.shape)"
      ]
    },
    {
      "cell_type": "markdown",
      "metadata": {
        "id": "SwMHiAIjgS_l"
      },
      "source": [
        "## 1.4  Collating data by concatenating arrays\n",
        "\n",
        "Sometimes we want to add a new colum, or append a bunch of rows of an array.\n",
        "For example, one way to complete this exercise requires us to combine many col vectors of [ [1], [x_i] ] into [ [1, 1, 1, ... ], [x_0, x_1, x_2, ...]]\n",
        "\n",
        "The end result is a matrix with two rows and number of columsn equal to the number of training examples."
      ]
    },
    {
      "cell_type": "code",
      "execution_count": 13,
      "metadata": {
        "colab": {
          "base_uri": "https://localhost:8080/"
        },
        "id": "Mn2HIj1z3IEe",
        "outputId": "29df9cb7-cc19-4f9e-d43b-505b5e4b9343"
      },
      "outputs": [
        {
          "name": "stdout",
          "output_type": "stream",
          "text": [
            "(1, 97)\n",
            "(1, 97)\n",
            "(2, 97)\n"
          ]
        }
      ],
      "source": [
        "# one command is np.concat (for concatenate)\n",
        "print(z_ones.T.shape)\n",
        "print(x.reshape(1,-1).shape)\n",
        "X = np.concat( [z_ones.T,x.reshape(1,-1)], axis=0 )\n",
        "print(X.shape)\n",
        "#print(X)\n",
        "\n",
        "# see also\n",
        "# np.stack: https://numpy.org/doc/2.1/reference/generated/numpy.stack.html\n",
        "# np.column_stack\n",
        "# np.vstack\n",
        "# np.hstack\n",
        "# np.dstack\n"
      ]
    },
    {
      "cell_type": "code",
      "execution_count": 14,
      "metadata": {
        "colab": {
          "base_uri": "https://localhost:8080/"
        },
        "id": "RMX-mK3dk6lZ",
        "outputId": "3781949c-fefe-4b94-95cf-a75d76f975cf"
      },
      "outputs": [
        {
          "name": "stdout",
          "output_type": "stream",
          "text": [
            "(2, 1)\n",
            "[[0.90224362]\n",
            " [0.81674122]]\n"
          ]
        }
      ],
      "source": [
        "# create randomly initialized theta\n",
        "theta = np.random.random((2,1))\n",
        "print(theta.shape)\n",
        "print(theta)\n"
      ]
    },
    {
      "cell_type": "code",
      "execution_count": 15,
      "metadata": {
        "colab": {
          "base_uri": "https://localhost:8080/"
        },
        "id": "62orM37HlChW",
        "outputId": "b3ac9e11-002d-4f0a-9779-9c15d2fb7dbd"
      },
      "outputs": [
        {
          "name": "stdout",
          "output_type": "stream",
          "text": [
            "(97, 1)\n"
          ]
        }
      ],
      "source": [
        "# matrix multiplication\n",
        "# here use the matrix multiply operator for two arrays, A@B\n",
        "# see also np.matmul\n",
        "# Note: this is different from element-wise multiplication, which is A*B\n",
        "\n",
        "# prediction for each point\n",
        "def predict(X_, th_):\n",
        "  return X_.T@th_\n",
        "\n",
        "y_pred = predict(X, theta)\n",
        "print(y_pred.shape)"
      ]
    },
    {
      "cell_type": "code",
      "execution_count": 16,
      "metadata": {
        "colab": {
          "base_uri": "https://localhost:8080/"
        },
        "id": "Hj7ccbmR5tQY",
        "outputId": "897ee5be-2279-4533-e7fa-6cd44142eb42"
      },
      "outputs": [
        {
          "name": "stdout",
          "output_type": "stream",
          "text": [
            "(97, 1)\n"
          ]
        }
      ],
      "source": [
        "Y = Y.reshape(-1,1)\n",
        "print(Y.shape)\n",
        "err = y_pred-Y"
      ]
    },
    {
      "cell_type": "code",
      "execution_count": 17,
      "metadata": {
        "id": "nRxdFoG56LsJ"
      },
      "outputs": [],
      "source": [
        "def calc_loss( X_train, Y_true, th ):\n",
        "  y_pred = predict(X_train,th)\n",
        "  err = y_pred-Y_true\n",
        "  loss = 0.5*np.mean(np.pow(err,2))\n",
        "  return loss"
      ]
    },
    {
      "cell_type": "markdown",
      "metadata": {
        "id": "yxE2DPF4h2oC"
      },
      "source": [
        "## 1.5 Taking advantage of auto-differentation library\n",
        "\n",
        "Libraries like pytorch, tensorflow, JAX (and others) are built to help us calculate the (partial) derivatives of our function with respect to any input.\n",
        "\n",
        "The examples below are for pytorch.\n",
        "\n",
        "We have to convert from numpy arrays into torch 'tensors'."
      ]
    },
    {
      "cell_type": "code",
      "execution_count": 18,
      "metadata": {
        "colab": {
          "base_uri": "https://localhost:8080/"
        },
        "id": "54yjrHFJ60F6",
        "outputId": "7f0bce75-46d0-41c6-d882-f11808c47d25"
      },
      "outputs": [
        {
          "name": "stdout",
          "output_type": "stream",
          "text": [
            "torch.Size([2, 97])\n",
            "torch.Size([97, 1])\n",
            "torch.Size([2, 1])\n"
          ]
        }
      ],
      "source": [
        "# take advantage of auto-diff library, pytorch\n",
        "\n",
        "# first change numpy arrays into torch arrays\n",
        "X_t = torch.from_numpy(X)\n",
        "Y_t = torch.from_numpy(Y)\n",
        "\n",
        "th_t = torch.tensor(theta, requires_grad=True)\n",
        "# the requires_grad flag tells pytorch to keep track of certain quantities when this object is used in a calculation.\n",
        "# The quantities are meant to help us calculate derivatives respect to this parameter.\n",
        "\n",
        "print(X_t.shape)\n",
        "print(Y_t.shape)\n",
        "print(th_t.shape)"
      ]
    },
    {
      "cell_type": "code",
      "execution_count": 19,
      "metadata": {
        "colab": {
          "base_uri": "https://localhost:8080/"
        },
        "id": "OK5WqMT56-X3",
        "outputId": "11318685-f0f6-4321-d700-5896cc037e1b"
      },
      "outputs": [
        {
          "name": "stdout",
          "output_type": "stream",
          "text": [
            "tensor(7.0185, dtype=torch.float64, grad_fn=<MulBackward0>)\n"
          ]
        }
      ],
      "source": [
        "# torch has similar functions for array as numpy -- with some even sharing the same name\n",
        "\n",
        "def predict_torch(X_, th_):\n",
        "  return torch.matmul(X_.T,th_)\n",
        "\n",
        "def calc_loss_torch( X_train, Y_true, th ):\n",
        "  y_pred = predict_torch(X_train,th)\n",
        "  loss = 0.5*torch.mean(torch.pow(y_pred-Y_true,2))\n",
        "  return loss\n",
        "\n",
        "# try it out\n",
        "loss = calc_loss_torch(X_t, Y_t, th_t)\n",
        "print(loss)"
      ]
    },
    {
      "cell_type": "code",
      "execution_count": 20,
      "metadata": {
        "colab": {
          "base_uri": "https://localhost:8080/"
        },
        "id": "fbj-43_97D3_",
        "outputId": "b55da187-ee6f-4c9d-b5e1-c555d72407e9"
      },
      "outputs": [
        {
          "name": "stdout",
          "output_type": "stream",
          "text": [
            "tensor([[1.7276],\n",
            "        [8.5192]], dtype=torch.float64)\n"
          ]
        }
      ],
      "source": [
        "# Using backpropagation to calculate the gradiant\n",
        "# to get gradients, we must calculate the loss first\n",
        "loss = calc_loss_torch(X_t, Y_t, th_t)\n",
        "\n",
        "# now we run the backward method on the output tensor\n",
        "loss.backward()\n",
        "\n",
        "# after calling backward, there are gradients for the loss function:\n",
        "# shape (2,1)\n",
        "# :  th_t.grad[0] # dL/d(theta_0)\n",
        "# :  th_t.grad[1] $ dL/d(theta_1)\n",
        "print(th_t.grad)"
      ]
    },
    {
      "cell_type": "code",
      "execution_count": 21,
      "metadata": {
        "colab": {
          "base_uri": "https://localhost:8080/"
        },
        "id": "l-h5RCfk9zPe",
        "outputId": "cccebd17-6019-44c0-a88a-fa6c680400f3"
      },
      "outputs": [],
      "source": [
        "# use normal equation to calculate parameter values with minimum loss"
      ]
    },
    {
      "cell_type": "code",
      "execution_count": null,
      "metadata": {
        "colab": {
          "base_uri": "https://localhost:8080/"
        },
        "id": "41ganQxi7w63",
        "outputId": "b4746776-902f-4e18-ecd6-204504309259"
      },
      "outputs": [
        {
          "name": "stdout",
          "output_type": "stream",
          "text": [
            "initial theta: \n",
            "[[0.97144554]\n",
            " [0.09498507]]\n",
            "Final answer: \n",
            "tensor([[-3.8738],\n",
            "        [ 1.1908]], dtype=torch.float64, requires_grad=True)\n",
            "Compare to normal equation answer: \n",
            "[[-3.89578088]\n",
            " [ 1.19303364]]\n"
          ]
        }
      ],
      "source": [
        "# implement gradient descent loop\n",
        "# compare result with normal equation\n",
        "# what is the effect of the learning rate?\n",
        "# how many steps does it take to get close to the true solution.\n",
        "\n"
      ]
    },
    {
      "cell_type": "code",
      "execution_count": 22,
      "metadata": {
        "id": "iTUVsUE6_tBG"
      },
      "outputs": [],
      "source": [
        "# make line plot showing parameter values as a function of time steps\n",
        "# try for different learning rates"
      ]
    },
    {
      "cell_type": "code",
      "execution_count": 23,
      "metadata": {
        "colab": {
          "base_uri": "https://localhost:8080/",
          "height": 449
        },
        "id": "cYX5kWQD_vrK",
        "outputId": "5b8177c1-bb41-4eb5-f7c7-47ed7ae95125"
      },
      "outputs": [],
      "source": [
        "# make plot of loss vs iteration\n"
      ]
    },
    {
      "cell_type": "code",
      "execution_count": 24,
      "metadata": {
        "colab": {
          "base_uri": "https://localhost:8080/",
          "height": 449
        },
        "id": "bSl81fNd-P9g",
        "outputId": "4aa85e0d-1b33-4614-a7e9-5a53615880fa"
      },
      "outputs": [],
      "source": [
        "# compare fit result(s) with data\n"
      ]
    },
    {
      "cell_type": "code",
      "execution_count": 25,
      "metadata": {
        "colab": {
          "base_uri": "https://localhost:8080/"
        },
        "id": "ilfTZOMj-ogw",
        "outputId": "954f7122-f1ff-45c8-c5ae-c7f189e3394a"
      },
      "outputs": [
        {
          "name": "stdout",
          "output_type": "stream",
          "text": [
            "(2, 97)\n",
            "(2,)\n",
            "[1.     8.1598]\n"
          ]
        }
      ],
      "source": [
        "# compare whitened and not-whitened data\n",
        "# for that we need to calcate summary stats such as the mean and subtract it out\n",
        "\n",
        "# both numpy and torch have functions to calculate summary statistics\n",
        "print(X.shape)\n",
        "X_mean = np.mean(X, axis=1, keepdims=False)\n",
        "print(X_mean.shape)\n",
        "print(X_mean)"
      ]
    },
    {
      "cell_type": "markdown",
      "metadata": {
        "id": "lQbgWmI5m_6I"
      },
      "source": [
        "## Broadcasting rules/Data whitening\n",
        "\n",
        "You can perform operations like element-wise addition or multiplication on arrays of different size as long as they follow certain 'broadcasting' rules.\n",
        "\n",
        "As a concrete example, to whiten our data, which often helps make gradient descent more efficient, we want to subtract the same mean from every data point.  It would also be nice to avoid making an array where the value of the mean repeats across the array.\n",
        "\n",
        "Instead we can do the following.\n",
        "\n",
        "See numpy broadcasting rules at this [link](https://numpy.org/doc/stable/user/basics.broadcasting.html)."
      ]
    },
    {
      "cell_type": "code",
      "execution_count": 26,
      "metadata": {
        "colab": {
          "base_uri": "https://localhost:8080/"
        },
        "id": "CbC1JP1olNil",
        "outputId": "6af839ec-1506-4e6f-cada-8122004807c8"
      },
      "outputs": [
        {
          "name": "stdout",
          "output_type": "stream",
          "text": [
            "(2, 97)\n",
            "(2,)\n",
            "[ 0.         14.82160678]\n",
            "[[ 1.          1.          1.          1.          1.          1.\n",
            "   1.          1.          1.          1.          1.          1.\n",
            "   1.          1.          1.          1.          1.          1.\n",
            "   1.          1.          1.          1.          1.          1.\n",
            "   1.          1.          1.          1.          1.          1.\n",
            "   1.          1.          1.          1.          1.          1.\n",
            "   1.          1.          1.          1.          1.          1.\n",
            "   1.          1.          1.          1.          1.          1.\n",
            "   1.          1.          1.          1.          1.          1.\n",
            "   1.          1.          1.          1.          1.          1.\n",
            "   1.          1.          1.          1.          1.          1.\n",
            "   1.          1.          1.          1.          1.          1.\n",
            "   1.          1.          1.          1.          1.          1.\n",
            "   1.          1.          1.          1.          1.          1.\n",
            "   1.          1.          1.          1.          1.          1.\n",
            "   1.          1.          1.          1.          1.          1.\n",
            "   1.        ]\n",
            " [-0.13829135 -0.17758533  0.0242079  -0.07803472 -0.15517886  0.01505235\n",
            "  -0.04610836  0.02822231 -0.11291623 -0.20950495 -0.1652385   0.40509778\n",
            "  -0.16366647  0.01677281 -0.16996133 -0.187591   -0.1210665  -0.20441104\n",
            "  -0.11673498 -0.07347382 -0.13296129  0.81706391 -0.18012217 -0.12371803\n",
            "  -0.17507549  0.7276674   0.3149591   0.18872448  0.33843834  0.94748162\n",
            "  -0.19615957 -0.10595342  0.07343333 -0.15301985  0.00346116 -0.015275\n",
            "  -0.00431127 -0.17228227  0.31549886 -0.12187612 -0.1857356  -0.08617824\n",
            "   0.23939375 -0.16098794 -0.02260888 -0.07196926 -0.20845243 -0.15911905\n",
            "   0.238854   -0.17664751 -0.04180383 -0.19242853 -0.04965049 -0.03756003\n",
            "  -0.12326599 -0.12150505 -0.12721968 -0.1700288   0.07761642  0.08729148\n",
            "   0.04490741 -0.20109156  0.8851402   0.45529477  0.72861196 -0.06352887\n",
            "   0.00912856  0.14007928 -0.17949471  0.82185421  0.13333237 -0.05568222\n",
            "  -0.14530139 -0.06300936 -0.21137384 -0.10875339 -0.04191179 -0.21072614\n",
            "   0.1426431  -0.20592234 -0.16399032 -0.20047759 -0.12172095  0.10855098\n",
            "  -0.1109124   0.02411345  0.06884544 -0.14558476 -0.17807786 -0.2091811\n",
            "  -0.1654409  -0.03529982 -0.15444344 -0.19258371  0.00901387  0.3531466\n",
            "  -0.18371153]]\n"
          ]
        }
      ],
      "source": [
        "x_mean = X_mean[1]\n",
        "X_centered = np.ones( X.shape )\n",
        "\n",
        "# we only subtract the second row, which has the data values. top row is still ones.\n",
        "# the right hand side is (97,) - (1,)\n",
        "# but the broadcast rules stipulate that the one value will be applied to every element of the first array\n",
        "# broadcast rules can be tricky\n",
        "# and making use of them correctly can make working with numpy and torch arrays a little clunky\n",
        "# but the pay off is the auto-diff\n",
        "X_centered[1,:] = X[1,:]-X_mean[1]\n",
        "\n",
        "print(X_centered.shape)\n",
        "\n",
        "# also we need to scale all the data points by the variance\n",
        "x_var = np.var(X_centered, axis=1, keepdims=False)\n",
        "print(x_var.shape)\n",
        "print(x_var)\n",
        "\n",
        "# \"whitened array\"\n",
        "X_centered[1,:] /= x_var[1]\n",
        "print(X_centered)"
      ]
    },
    {
      "cell_type": "code",
      "execution_count": null,
      "metadata": {
        "id": "o8NxBGlsmYCb"
      },
      "outputs": [],
      "source": []
    }
  ],
  "metadata": {
    "colab": {
      "collapsed_sections": [
        "PeT1nTwUPTJc"
      ],
      "provenance": []
    },
    "kernelspec": {
      "display_name": "ketanisillegalimmigrant",
      "language": "python",
      "name": "python3"
    },
    "language_info": {
      "codemirror_mode": {
        "name": "ipython",
        "version": 3
      },
      "file_extension": ".py",
      "mimetype": "text/x-python",
      "name": "python",
      "nbconvert_exporter": "python",
      "pygments_lexer": "ipython3",
      "version": "3.13.2"
    }
  },
  "nbformat": 4,
  "nbformat_minor": 0
}
