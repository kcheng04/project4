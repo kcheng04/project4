{
  "cells": [
    {
      "cell_type": "markdown",
      "metadata": {
        "id": "u6vs9M3lPTJO"
      },
      "source": [
        "# ML Exercise 1: Linear Regression\n",
        "\n",
        "This notebook is to help you get started on Exercise 1 for Project 4 on Machine Learning.\n",
        "\n",
        "Exercise 1 covers the material we discussed in the Intro to ML presentation which you can find [on this Canvas page](https://canvas.tufts.edu/courses/62563/pages/intro-to-ml-slides-and-exercise-materials?module_item_id=1651708).\n",
        "\n",
        "In this exercise your group is being asked to implement a linear regression model.  \n",
        "\n",
        "The task is to estimate profits for opening a new food truck based on the population of the city.  You are provided data for the profit for past trucks along with the population of the cities in which they operated.\n",
        "\n",
        "The objectives for this exercise is to:\n",
        "* Import data, text file with (x,y) pairs\n",
        "* Create arrays X, Y, theta\n",
        "* [Result 1] Calculate theta using Normal Equation\n",
        "* [Result 2] Plot data points and model curve\n",
        "* [Result 3] Implement gradient solver - compare to Normal Equation solution\n",
        "* [Result 4] Plot loss and gradient norm vs. iteration step\n",
        "* [Optional Study] Plot path of 2d parameter values during gradient descent"
      ]
    },
    {
      "cell_type": "markdown",
      "metadata": {
        "id": "yoodgANRPTJQ"
      },
      "source": [
        "## 1.1 Loading the Data\n",
        "\n",
        "You can download the data the following GoogleDrive [link](https://drive.google.com/file/d/1Duglp2NZQQWJ4j1iUPZmAAcFKEUT0Jvi/view?usp=sharing).\n",
        "\n",
        "In the rest that follows, we assume that the file, `ex1data.txt`, has been uploaded into `/content/drive/sample_data/`.\n",
        "\n",
        "The data is in a very simple CSV format.\n",
        "\n",
        "The first column of data is the population in 10K people.  The second column is the profit in 10K dollars.\n",
        "\n",
        "\n",
        "Here is an example of the first bit of the file:\n",
        "\n",
        "```\n",
        "6.1101,17.592\n",
        "5.5277,9.1302\n",
        "8.5186,13.662\n",
        "7.0032,11.854\n",
        "5.8598,6.8233\n",
        "8.3829,11.886\n",
        "7.4764,4.3483\n",
        "8.5781,12\n",
        "6.4862,6.5987\n",
        "5.0546,3.8166\n",
        "...\n",
        "```\n"
      ]
    },
    {
      "cell_type": "markdown",
      "metadata": {
        "id": "obbGbs-yP0IY"
      },
      "source": [
        "Import the packages."
      ]
    },
    {
      "cell_type": "code",
      "execution_count": 85,
      "metadata": {
        "id": "NsvO6aInPTJR"
      },
      "outputs": [],
      "source": [
        "import numpy as np\n",
        "import matplotlib.pyplot as plt\n",
        "import numpy as np\n",
        "%matplotlib inline\n",
        "from sklearn.linear_model import LinearRegression\n",
        "\n",
        "# we use numpy's import function\n",
        "from numpy import genfromtxt\n"
      ]
    },
    {
      "cell_type": "code",
      "execution_count": 86,
      "metadata": {
        "colab": {
          "base_uri": "https://localhost:8080/"
        },
        "id": "CJlwR_DNPTJS",
        "outputId": "18065a6b-500b-459f-df61-d41628745c63"
      },
      "outputs": [
        {
          "name": "stdout",
          "output_type": "stream",
          "text": [
            "shape of numpy array (expected to be (97,2)):  (97, 2)\n"
          ]
        }
      ],
      "source": [
        "data = genfromtxt('ex1data1.txt', delimiter=',')\n",
        "\n",
        "print(\"shape of numpy array (expected to be (97,2)): \",data.shape)"
      ]
    },
    {
      "cell_type": "code",
      "execution_count": 87,
      "metadata": {
        "colab": {
          "base_uri": "https://localhost:8080/"
        },
        "id": "78WEn9WYF817",
        "outputId": "213ed2f5-53b8-4398-bb65-9a26f5e27145"
      },
      "outputs": [
        {
          "name": "stdout",
          "output_type": "stream",
          "text": [
            "population_data.shape= (97, 1)\n",
            "profit_data.shape= (97,)\n"
          ]
        }
      ],
      "source": [
        "# Example of slicing an array\n",
        "\n",
        "# if you want only the population data column in the array, we can slice it out\n",
        "population_data = data[:,0].reshape((-1, 1)) # take slice of array involving all rows (':') and only the 0-th column\n",
        "print(\"population_data.shape=\",population_data.shape) # should be (97,) which is a one-dimensional array\n",
        "\n",
        "# likewise, this is how you get the profit values, which is the 1-indexed column\n",
        "profit_data = data[:,1]\n",
        "print(\"profit_data.shape=\",profit_data.shape)"
      ]
    },
    {
      "cell_type": "code",
      "execution_count": 88,
      "metadata": {},
      "outputs": [],
      "source": [
        "N = len(population_data)"
      ]
    },
    {
      "cell_type": "code",
      "execution_count": 89,
      "metadata": {},
      "outputs": [],
      "source": [
        "model = LinearRegression()\n",
        "model.fit(population_data,profit_data)\n",
        "profit_data_predict = model.predict(population_data)"
      ]
    },
    {
      "cell_type": "code",
      "execution_count": 90,
      "metadata": {
        "colab": {
          "base_uri": "https://localhost:8080/",
          "height": 449
        },
        "id": "TL1JVukOT9Ql",
        "outputId": "4904ddb1-cce4-448c-847c-32d9ee10cb0d"
      },
      "outputs": [
        {
          "data": {
            "image/png": "[encoded data removed]",
            "text/plain": [
              "<Figure size 640x480 with 1 Axes>"
            ]
          },
          "metadata": {},
          "output_type": "display_data"
        }
      ],
      "source": [
        "# visualizing the data\n",
        "plt.scatter(population_data, profit_data, marker='x', c='r')\n",
        "plt.plot(population_data,profit_data_predict)\n",
        "plt.xlabel('Population of City in 10,000s')\n",
        "plt.ylabel('Profit in $10,000s');"
      ]
    },
    {
      "cell_type": "markdown",
      "metadata": {},
      "source": [
        "Formulazing Performance P, squared difference"
      ]
    },
    {
      "cell_type": "code",
      "execution_count": 91,
      "metadata": {},
      "outputs": [
        {
          "name": "stdout",
          "output_type": "stream",
          "text": [
            "[2.01589622e+02 4.13609612e+01 5.46831333e+01 5.46819972e+01\n",
            " 1.38990452e+01 3.34164826e+01 4.56321676e-01 3.20561941e+01\n",
            " 7.59678207e+00 2.82936965e+00 1.12173849e-01 6.26326874e+00\n",
            " 4.41109049e-02 1.18826740e+00 4.48416199e+00 9.81834638e-01\n",
            " 2.58066399e+00 2.76833366e+00 1.51654891e-02 7.21443984e-01\n",
            " 1.22096886e-01 2.19036718e+00 2.58858131e+00 2.35939044e+00\n",
            " 1.15034900e-01 1.54587248e+01 4.37874579e+00 4.53514829e+00\n",
            " 8.22754406e+00 2.41446498e+00 1.28917551e+01 4.12498124e+00\n",
            " 2.49636845e+01 1.64823166e+00 4.12500891e-01 1.01350979e+00\n",
            " 2.71096291e+00 3.60091637e-01 1.69259834e+00 3.28827784e+00\n",
            " 3.99305395e+00 1.63032779e-01 2.19666288e+01 3.04524597e-01\n",
            " 1.67042835e+00 1.23919915e+01 8.88374802e+00 1.39590564e+00\n",
            " 4.23706309e+00 2.88196243e+00 2.72404658e+00 3.56270265e-01\n",
            " 4.52500525e-01 3.12841366e-02 5.00042310e+00 2.61294847e+01\n",
            " 1.24088641e+00 3.13866944e+00 1.05573069e+01 3.87531501e+00\n",
            " 2.14276385e+00 9.15721025e+00 1.26862913e+01 3.37076634e+00\n",
            " 2.78537401e+00 2.87049756e-02 6.57166061e-02 2.92368930e-01\n",
            " 2.71553600e+00 3.84751647e-01 2.30101030e+00 6.86618371e-01\n",
            " 3.96574484e+00 1.91507108e+00 2.28692451e+01 1.30993623e+01\n",
            " 1.47263698e+00 1.28770949e+01 2.58838797e+00 1.96776553e-02\n",
            " 6.05070202e+00 4.36786961e+00 9.04910512e+00 4.62709705e-02\n",
            " 2.14825584e+00 4.09667832e+00 6.67739617e-02 5.46557561e+00\n",
            " 6.44267271e+00 4.63960498e-01 1.14190009e+00 8.44634244e-01\n",
            " 1.67668814e+01 1.99665823e-01 3.42691327e+01 9.17248914e+00\n",
            " 3.89499331e+00]\n",
            "<function summation_y_squared at 0x14fc61bc0>\n"
          ]
        }
      ],
      "source": [
        "y_squared = (profit_data_predict - profit_data)**2\n",
        "print(y_squared)\n",
        "\n",
        "def summation_y_squared():\n",
        "    summation_y_squared = 0\n",
        "    for i in range(population_data - 1):\n",
        "        summation_y_squared = ((profit_data_predict(i) - profit_data(i))**2)/ np.size(population_data)\n",
        "    return summation_y_squared\n",
        "\n",
        "summation_y_squared\n",
        "print(summation_y_squared)"
      ]
    },
    {
      "cell_type": "code",
      "execution_count": null,
      "metadata": {},
      "outputs": [],
      "source": []
    },
    {
      "cell_type": "code",
      "execution_count": 98,
      "metadata": {},
      "outputs": [
        {
          "name": "stdout",
          "output_type": "stream",
          "text": [
            "[[ 1.      6.1101]\n",
            " [ 1.      5.5277]\n",
            " [ 1.      8.5186]\n",
            " [ 1.      7.0032]\n",
            " [ 1.      5.8598]\n",
            " [ 1.      8.3829]\n",
            " [ 1.      7.4764]\n",
            " [ 1.      8.5781]\n",
            " [ 1.      6.4862]\n",
            " [ 1.      5.0546]\n",
            " [ 1.      5.7107]\n",
            " [ 1.     14.164 ]\n",
            " [ 1.      5.734 ]\n",
            " [ 1.      8.4084]\n",
            " [ 1.      5.6407]\n",
            " [ 1.      5.3794]\n",
            " [ 1.      6.3654]\n",
            " [ 1.      5.1301]\n",
            " [ 1.      6.4296]\n",
            " [ 1.      7.0708]\n",
            " [ 1.      6.1891]\n",
            " [ 1.     20.27  ]\n",
            " [ 1.      5.4901]\n",
            " [ 1.      6.3261]\n",
            " [ 1.      5.5649]\n",
            " [ 1.     18.945 ]\n",
            " [ 1.     12.828 ]\n",
            " [ 1.     10.957 ]\n",
            " [ 1.     13.176 ]\n",
            " [ 1.     22.203 ]\n",
            " [ 1.      5.2524]\n",
            " [ 1.      6.5894]\n",
            " [ 1.      9.2482]\n",
            " [ 1.      5.8918]\n",
            " [ 1.      8.2111]\n",
            " [ 1.      7.9334]\n",
            " [ 1.      8.0959]\n",
            " [ 1.      5.6063]\n",
            " [ 1.     12.836 ]\n",
            " [ 1.      6.3534]\n",
            " [ 1.      5.4069]\n",
            " [ 1.      6.8825]\n",
            " [ 1.     11.708 ]\n",
            " [ 1.      5.7737]\n",
            " [ 1.      7.8247]\n",
            " [ 1.      7.0931]\n",
            " [ 1.      5.0702]\n",
            " [ 1.      5.8014]\n",
            " [ 1.     11.7   ]\n",
            " [ 1.      5.5416]\n",
            " [ 1.      7.5402]\n",
            " [ 1.      5.3077]\n",
            " [ 1.      7.4239]\n",
            " [ 1.      7.6031]\n",
            " [ 1.      6.3328]\n",
            " [ 1.      6.3589]\n",
            " [ 1.      6.2742]\n",
            " [ 1.      5.6397]\n",
            " [ 1.      9.3102]\n",
            " [ 1.      9.4536]\n",
            " [ 1.      8.8254]\n",
            " [ 1.      5.1793]\n",
            " [ 1.     21.279 ]\n",
            " [ 1.     14.908 ]\n",
            " [ 1.     18.959 ]\n",
            " [ 1.      7.2182]\n",
            " [ 1.      8.2951]\n",
            " [ 1.     10.236 ]\n",
            " [ 1.      5.4994]\n",
            " [ 1.     20.341 ]\n",
            " [ 1.     10.136 ]\n",
            " [ 1.      7.3345]\n",
            " [ 1.      6.0062]\n",
            " [ 1.      7.2259]\n",
            " [ 1.      5.0269]\n",
            " [ 1.      6.5479]\n",
            " [ 1.      7.5386]\n",
            " [ 1.      5.0365]\n",
            " [ 1.     10.274 ]\n",
            " [ 1.      5.1077]\n",
            " [ 1.      5.7292]\n",
            " [ 1.      5.1884]\n",
            " [ 1.      6.3557]\n",
            " [ 1.      9.7687]\n",
            " [ 1.      6.5159]\n",
            " [ 1.      8.5172]\n",
            " [ 1.      9.1802]\n",
            " [ 1.      6.002 ]\n",
            " [ 1.      5.5204]\n",
            " [ 1.      5.0594]\n",
            " [ 1.      5.7077]\n",
            " [ 1.      7.6366]\n",
            " [ 1.      5.8707]\n",
            " [ 1.      5.3054]\n",
            " [ 1.      8.2934]\n",
            " [ 1.     13.394 ]\n",
            " [ 1.      5.4369]]\n",
            "[[  97.          791.5006    ]\n",
            " [ 791.5006     7896.18245374]]\n",
            "[ 566.3961     6336.89842532]\n",
            "[-3.89578088  1.19303364]\n"
          ]
        }
      ],
      "source": [
        "X_matrix_T = np.transpose(X_matrix)\n",
        "print(X_matrix_T)\n",
        "X_matmul = np.matmul(X_matrix, X_matrix_T)\n",
        "print(X_matmul)\n",
        "X_matmul_inv = np.linalg.inv(X_matmul) \n",
        "X_matmul_Y = np.matmul(X_matrix, profit_data)\n",
        "print(X_matmul_Y )\n",
        "theta = np.matmul(X_matmul_inv, X_matmul_Y )\n",
        "print(theta)"
      ]
    },
    {
      "cell_type": "code",
      "execution_count": 109,
      "metadata": {},
      "outputs": [
        {
          "data": {
            "text/plain": [
              "<function matplotlib.pyplot.show(close=None, block=None)>"
            ]
          },
          "execution_count": 109,
          "metadata": {},
          "output_type": "execute_result"
        },
        {
          "data": {
            "image/png": "[encoded data removed]",
            "text/plain": [
              "<Figure size 640x480 with 1 Axes>"
            ]
          },
          "metadata": {},
          "output_type": "display_data"
        }
      ],
      "source": [
        "juliansucks = theta[0] + theta[1]*population_data\n",
        "plt.scatter(population_data, profit_data, marker='x', c='r')\n",
        "plt.plot(juliansucks, profit_data_predict)\n",
        "plt.xlabel('Population of City in 10,000s')\n",
        "plt.ylabel('Profit in $10,000s')\n",
        "plt.show"
      ]
    },
    {
      "cell_type": "code",
      "execution_count": null,
      "metadata": {},
      "outputs": [],
      "source": []
    },
    {
      "cell_type": "code",
      "execution_count": null,
      "metadata": {},
      "outputs": [],
      "source": []
    }
  ],
  "metadata": {
    "colab": {
      "collapsed_sections": [
        "PeT1nTwUPTJc"
      ],
      "provenance": []
    },
    "kernelspec": {
      "display_name": "ketanisillegalimmigrant",
      "language": "python",
      "name": "python3"
    },
    "language_info": {
      "codemirror_mode": {
        "name": "ipython",
        "version": 3
      },
      "file_extension": ".py",
      "mimetype": "text/x-python",
      "name": "python",
      "nbconvert_exporter": "python",
      "pygments_lexer": "ipython3",
      "version": "3.13.2"
    }
  },
  "nbformat": 4,
  "nbformat_minor": 0
}
